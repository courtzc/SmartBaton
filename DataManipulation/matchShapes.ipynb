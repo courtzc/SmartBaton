{
 "cells": [
  {
   "cell_type": "code",
   "execution_count": 39,
   "metadata": {},
   "outputs": [
    {
     "name": "stdout",
     "output_type": "stream",
     "text": [
      "['..\\\\Visualisations\\\\Session01_Resampled_Average_Figures\\\\60bpm_mf_44path_Normal_SplitCycles_TimeBased_Session01_ExpA1_003_SavedCycle_1_Resampled_000201.png', '..\\\\Visualisations\\\\Session01_Resampled_Average_Figures\\\\60bpm_mf_44path_Normal_SplitCycles_TimeBased_Session01_ExpA1_003_SavedCycle_2_Resampled_000202.png', '..\\\\Visualisations\\\\Session01_Resampled_Average_Figures\\\\60bpm_mf_44path_Normal_SplitCycles_TimeBased_Session01_ExpA1_003_SavedCycle_3_Resampled_000203.png', '..\\\\Visualisations\\\\Session01_Resampled_Average_Figures\\\\60bpm_mf_44path_Normal_SplitCycles_TimeBased_Session01_ExpA1_003_SavedCycle_4_Resampled_000204.png', '..\\\\Visualisations\\\\Session01_Resampled_Average_Figures\\\\60bpm_mf_44path_Normal_SplitCycles_TimeBased_Session01_ExpA1_003_SavedCycle_5_Resampled_000205.png', '..\\\\Visualisations\\\\Session01_Resampled_Average_Figures\\\\60bpm_mf_44path_Normal_SplitCycles_TimeBased_Session01_ExpA1_004_SavedCycle_1_Resampled_000206.png', '..\\\\Visualisations\\\\Session01_Resampled_Average_Figures\\\\60bpm_mf_44path_Normal_SplitCycles_TimeBased_Session01_ExpA1_004_SavedCycle_2_Resampled_000207.png', '..\\\\Visualisations\\\\Session01_Resampled_Average_Figures\\\\60bpm_mf_44path_Normal_SplitCycles_TimeBased_Session01_ExpA1_004_SavedCycle_3_Resampled_000208.png', '..\\\\Visualisations\\\\Session01_Resampled_Average_Figures\\\\60bpm_mf_44path_Normal_SplitCycles_TimeBased_Session01_ExpA1_004_SavedCycle_4_Resampled_000209.png', '..\\\\Visualisations\\\\Session01_Resampled_Average_Figures\\\\60bpm_mf_44path_Normal_SplitCycles_TimeBased_Session01_ExpA1_004_SavedCycle_5_Resampled_000210.png', '..\\\\Visualisations\\\\Session01_Resampled_Average_Figures\\\\60bpm_mf_44path_Normal_SplitCycles_TimeBased_Session01_ExpA1_005_SavedCycle_1_Resampled_000211.png', '..\\\\Visualisations\\\\Session01_Resampled_Average_Figures\\\\60bpm_mf_44path_Normal_SplitCycles_TimeBased_Session01_ExpA1_005_SavedCycle_2_Resampled_000212.png', '..\\\\Visualisations\\\\Session01_Resampled_Average_Figures\\\\60bpm_mf_44path_Normal_SplitCycles_TimeBased_Session01_ExpA1_005_SavedCycle_3_Resampled_000213.png', '..\\\\Visualisations\\\\Session01_Resampled_Average_Figures\\\\60bpm_mf_44path_Normal_SplitCycles_TimeBased_Session01_ExpA1_005_SavedCycle_4_Resampled_000214.png', '..\\\\Visualisations\\\\Session01_Resampled_Average_Figures\\\\60bpm_mf_44path_Normal_SplitCycles_TimeBased_Session01_ExpA1_005_SavedCycle_5_Resampled_000215.png', '..\\\\Visualisations\\\\Session01_Resampled_Average_Figures\\\\60bpm_mf_44path_Normal_SplitCycles_TimeBased_Session01_ExpA1_006_SavedCycle_1_Resampled_000216.png', '..\\\\Visualisations\\\\Session01_Resampled_Average_Figures\\\\60bpm_mf_44path_Normal_SplitCycles_TimeBased_Session01_ExpA1_006_SavedCycle_2_Resampled_000217.png', '..\\\\Visualisations\\\\Session01_Resampled_Average_Figures\\\\60bpm_mf_44path_Normal_SplitCycles_TimeBased_Session01_ExpA1_006_SavedCycle_3_Resampled_000218.png', '..\\\\Visualisations\\\\Session01_Resampled_Average_Figures\\\\60bpm_mf_44path_Normal_SplitCycles_TimeBased_Session01_ExpA1_006_SavedCycle_4_Resampled_000219.png', '..\\\\Visualisations\\\\Session01_Resampled_Average_Figures\\\\60bpm_mf_44path_Normal_SplitCycles_TimeBased_Session01_ExpA1_006_SavedCycle_5_Resampled_000220.png']\n"
     ]
    },
    {
     "ename": "TypeError",
     "evalue": "'NoneType' object is not iterable",
     "output_type": "error",
     "traceback": [
      "\u001b[1;31m---------------------------------------------------------------------------\u001b[0m",
      "\u001b[1;31mTypeError\u001b[0m                                 Traceback (most recent call last)",
      "\u001b[1;32m<ipython-input-39-201d8f50e291>\u001b[0m in \u001b[0;36m<module>\u001b[1;34m\u001b[0m\n\u001b[0;32m     10\u001b[0m \u001b[1;32massert\u001b[0m \u001b[0msource_of_truth\u001b[0m \u001b[1;32mis\u001b[0m \u001b[1;32mnot\u001b[0m \u001b[1;32mNone\u001b[0m\u001b[1;33m,\u001b[0m \u001b[1;34m\"file could not be read, check with os.path.exists()\"\u001b[0m\u001b[1;33m\u001b[0m\u001b[1;33m\u001b[0m\u001b[0m\n\u001b[0;32m     11\u001b[0m \u001b[1;33m\u001b[0m\u001b[0m\n\u001b[1;32m---> 12\u001b[1;33m \u001b[1;32mfor\u001b[0m \u001b[0mtest_image\u001b[0m \u001b[1;32min\u001b[0m \u001b[0mtest_images\u001b[0m\u001b[1;33m:\u001b[0m\u001b[1;33m\u001b[0m\u001b[1;33m\u001b[0m\u001b[0m\n\u001b[0m\u001b[0;32m     13\u001b[0m \u001b[1;33m\u001b[0m\u001b[0m\n\u001b[0;32m     14\u001b[0m     \u001b[1;32massert\u001b[0m \u001b[0mtest_image\u001b[0m \u001b[1;32mis\u001b[0m \u001b[1;32mnot\u001b[0m \u001b[1;32mNone\u001b[0m\u001b[1;33m,\u001b[0m \u001b[1;34m\"file could not be read, check with os.path.exists()\"\u001b[0m\u001b[1;33m\u001b[0m\u001b[1;33m\u001b[0m\u001b[0m\n",
      "\u001b[1;31mTypeError\u001b[0m: 'NoneType' object is not iterable"
     ]
    }
   ],
   "source": [
    "import cv2\n",
    "import numpy as np\n",
    "import matplotlib.pyplot as plt\n",
    "import glob\n",
    "\n",
    "test_images = print(glob.glob('..\\\\Visualisations\\\\Session01_Resampled_Average_Figures\\\\60bpm_mf_44path_Normal_SplitCycles_TimeBased_Session01_ExpA1_0*Resampled_0*.png'))\n",
    "\n",
    "source_of_truth = cv2.imread('..\\\\Visualisations\\\\Session01_Resampled_Average_Figures\\\\60bpm_mf_44path_Normal_SplitCycles_TimeBased_Session01_ExpA1_All_Resampled_Average_000200.png')\n",
    "# test_image = cv2.imread('..\\\\Visualisations\\\\Session01_Resampled_Average_Figures\\\\60bpm_mf_44path_Normal_SplitCycles_TimeBased_Session01_ExpA1_004_SavedCycle_4_Resampled_000209.png')\n",
    "assert source_of_truth is not None, \"file could not be read, check with os.path.exists()\"\n",
    "\n",
    "for test_image in test_images:\n",
    "\n",
    "    assert test_image is not None, \"file could not be read, check with os.path.exists()\"\n",
    "\n",
    "    source_of_truth = cv2.cvtColor(source_of_truth,cv2.COLOR_BGR2GRAY) #gray scale image\n",
    "    ret1, thresh1 = cv2.threshold(source_of_truth, 127, 255, 0)\n",
    "    source_of_truth_contours_found, contours_truth, hierarchy1 = cv2.findContours(thresh1, cv2.RETR_TREE, cv2.CHAIN_APPROX_NONE)\n",
    "    cnt1 = contours_truth[1]\n",
    "\n",
    "\n",
    "    test_image = cv2.cvtColor(test_image,cv2.COLOR_BGR2GRAY) #gray scale image\n",
    "    ret2, thresh2 = cv2.threshold(test_image, 127, 255, 0)\n",
    "    test_image_contours_found, contours_test, hierarchy2 = cv2.findContours(thresh2, cv2.RETR_TREE, cv2.CHAIN_APPROX_NONE)\n",
    "    cnt2 = contours_test[1]\n",
    "\n",
    "    source_of_truth_drawn = cv2.drawContours(source_of_truth_contours_found, contours_truth, -1, (255,255,255), 3)\n",
    "    test_image_drawn = cv2.drawContours(test_image_contours_found, contours_test, -1, (255,255,255), 3)\n",
    "\n",
    "    # plot\n",
    "    fig, axes = plt.subplots(nrows=1, ncols=2)\n",
    "    plt.subplot(1,2,1)\n",
    "    plt.imshow(source_of_truth_drawn, cmap='gray')\n",
    "    plt.title(\"source_of_truth_drawn\")\n",
    "\n",
    "    plt.subplot(1,2,2)\n",
    "    plt.imshow(test_image_drawn, cmap='gray')\n",
    "    plt.title(\"test_image_drawn\")\n",
    "    plt.show()\n",
    "\n",
    "    # match shpaes\n",
    "    ret_match = cv2.matchShapes(cnt1,cnt2,1,0.000)\n",
    "    print(\"match is: \", ret_match)\n"
   ]
  }
 ],
 "metadata": {
  "kernelspec": {
   "display_name": "mtrn4110",
   "language": "python",
   "name": "mtrn4110"
  },
  "language_info": {
   "codemirror_mode": {
    "name": "ipython",
    "version": 3
   },
   "file_extension": ".py",
   "mimetype": "text/x-python",
   "name": "python",
   "nbconvert_exporter": "python",
   "pygments_lexer": "ipython3",
   "version": "3.7.10"
  },
  "orig_nbformat": 4,
  "vscode": {
   "interpreter": {
    "hash": "91d0e911e4dec4455ceda997db6240601ad3d4b1a826a98150b632f627aef62b"
   }
  }
 },
 "nbformat": 4,
 "nbformat_minor": 2
}
