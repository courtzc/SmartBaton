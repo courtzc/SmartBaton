{
 "cells": [
  {
   "cell_type": "code",
   "execution_count": null,
   "metadata": {},
   "outputs": [],
   "source": [
    "import cv2\n",
    "import numpy as np\n",
    "source_of_truth = cv2.imread('..\\\\Visualisations\\\\Session01_Resampled_Average_Figures\\\\60bpm_mf_44path_Normal_SplitCycles_TimeBased_Session01_ExpA1_All_Resampled_Average.mat_000195.png', cv2.IMREAD_GRAYSCALE)\n",
    "test_image = cv2.imread('..\\\\Visualisations\\\\Session01_Resampled_Average_Figures\\\\60bpm_mf_44path_Normal_SplitCycles_TimeBased_Session01_ExpA1_All_Resampled_Average.mat_000195.png', cv2.IMREAD_GRAYSCALE)\n",
    "assert source_of_truth is not None, \"file could not be read, check with os.path.exists()\"\n",
    "assert test_image is not None, \"file could not be read, check with os.path.exists()\"\n",
    "\n",
    "\n",
    "ret, thresh = cv2.threshold(source_of_truth, 127, 255, 0)\n",
    "source_of_truth2, contours_truth, hierarchy = cv2.findContours(thresh, cv2.RETR_TREE, cv2.CHAIN_APPROX_SIMPLE)\n",
    "\n",
    "ret2, thresh2 = cv2.threshold(test_image, 127, 255, 0)\n",
    "test_image2, contours_test, hierarchy = cv2.findContours(thresh2, cv2.RETR_TREE, cv2.CHAIN_APPROX_SIMPLE)\n",
    "\n",
    "cnt1 = contours_truth[0]\n",
    "cnt2 = contours_test[0]\n",
    "\n",
    "\n",
    "ret_match = cv2.matchShapes(cnt1,cnt2,1,0.0)\n",
    "print(ret_match)"
   ]
  }
 ],
 "metadata": {
  "kernelspec": {
   "display_name": "mtrn4110",
   "language": "python",
   "name": "mtrn4110"
  },
  "language_info": {
   "name": "python",
   "version": "3.7.10"
  },
  "orig_nbformat": 4,
  "vscode": {
   "interpreter": {
    "hash": "91d0e911e4dec4455ceda997db6240601ad3d4b1a826a98150b632f627aef62b"
   }
  }
 },
 "nbformat": 4,
 "nbformat_minor": 2
}
