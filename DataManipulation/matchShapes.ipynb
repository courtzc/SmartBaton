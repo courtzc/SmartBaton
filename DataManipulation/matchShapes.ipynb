{
 "cells": [
  {
   "cell_type": "code",
   "execution_count": null,
   "metadata": {},
   "outputs": [],
   "source": [
    "import cv2 as cv\n",
    "import numpy as np\n",
    "img1 = cv.imread('star.jpg', cv.IMREAD_GRAYSCALE)\n",
    "img2 = cv.imread('star2.jpg', cv.IMREAD_GRAYSCALE)\n",
    "assert img1 is not None, \"file could not be read, check with os.path.exists()\"\n",
    "assert img2 is not None, \"file could not be read, check with os.path.exists()\"\n",
    "ret, thresh = cv.threshold(img1, 127, 255,0)\n",
    "ret, thresh2 = cv.threshold(img2, 127, 255,0)\n",
    "im2,contours,hierarchy = cv.findContours(thresh,2,1)\n",
    "cnt1 = contours[0]\n",
    "im2,contours,hierarchy = cv.findContours(thresh2,2,1)\n",
    "cnt2 = contours[0]\n",
    "ret = cv.matchShapes(cnt1,cnt2,1,0.0)\n",
    "print( ret )"
   ]
  }
 ],
 "metadata": {
  "language_info": {
   "name": "python"
  },
  "orig_nbformat": 4
 },
 "nbformat": 4,
 "nbformat_minor": 2
}
