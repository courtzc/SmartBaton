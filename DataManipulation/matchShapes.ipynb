{
 "cells": [
  {
   "cell_type": "code",
   "execution_count": 7,
   "metadata": {},
   "outputs": [
    {
     "ename": "error",
     "evalue": "OpenCV(3.4.2) c:\\projects\\opencv-python\\opencv\\modules\\imgproc\\src\\color.hpp:253: error: (-215:Assertion failed) VScn::contains(scn) && VDcn::contains(dcn) && VDepth::contains(depth) in function 'cv::CvtHelper<struct cv::Set<3,4,-1>,struct cv::Set<1,-1,-1>,struct cv::Set<0,2,5>,2>::CvtHelper'\n",
     "output_type": "error",
     "traceback": [
      "\u001b[1;31m---------------------------------------------------------------------------\u001b[0m",
      "\u001b[1;31merror\u001b[0m                                     Traceback (most recent call last)",
      "\u001b[1;32m<ipython-input-7-d7b12a93e82d>\u001b[0m in \u001b[0;36m<module>\u001b[1;34m\u001b[0m\n\u001b[0;32m      8\u001b[0m \u001b[1;32massert\u001b[0m \u001b[0mtest_image\u001b[0m \u001b[1;32mis\u001b[0m \u001b[1;32mnot\u001b[0m \u001b[1;32mNone\u001b[0m\u001b[1;33m,\u001b[0m \u001b[1;34m\"file could not be read, check with os.path.exists()\"\u001b[0m\u001b[1;33m\u001b[0m\u001b[1;33m\u001b[0m\u001b[0m\n\u001b[0;32m      9\u001b[0m \u001b[1;33m\u001b[0m\u001b[0m\n\u001b[1;32m---> 10\u001b[1;33m \u001b[0msource_of_truth\u001b[0m \u001b[1;33m=\u001b[0m \u001b[0mcv2\u001b[0m\u001b[1;33m.\u001b[0m\u001b[0mcvtColor\u001b[0m\u001b[1;33m(\u001b[0m\u001b[0msource_of_truth\u001b[0m\u001b[1;33m,\u001b[0m\u001b[0mcv2\u001b[0m\u001b[1;33m.\u001b[0m\u001b[0mCOLOR_BGR2GRAY\u001b[0m\u001b[1;33m)\u001b[0m \u001b[1;31m#gray scale image\u001b[0m\u001b[1;33m\u001b[0m\u001b[1;33m\u001b[0m\u001b[0m\n\u001b[0m\u001b[0;32m     11\u001b[0m \u001b[0mtest_image\u001b[0m \u001b[1;33m=\u001b[0m \u001b[0mcv2\u001b[0m\u001b[1;33m.\u001b[0m\u001b[0mcvtColor\u001b[0m\u001b[1;33m(\u001b[0m\u001b[0mtest_image\u001b[0m\u001b[1;33m,\u001b[0m\u001b[0mcv2\u001b[0m\u001b[1;33m.\u001b[0m\u001b[0mCOLOR_BGR2GRAY\u001b[0m\u001b[1;33m)\u001b[0m \u001b[1;31m#gray scale image\u001b[0m\u001b[1;33m\u001b[0m\u001b[1;33m\u001b[0m\u001b[0m\n\u001b[0;32m     12\u001b[0m \u001b[1;33m\u001b[0m\u001b[0m\n",
      "\u001b[1;31merror\u001b[0m: OpenCV(3.4.2) c:\\projects\\opencv-python\\opencv\\modules\\imgproc\\src\\color.hpp:253: error: (-215:Assertion failed) VScn::contains(scn) && VDcn::contains(dcn) && VDepth::contains(depth) in function 'cv::CvtHelper<struct cv::Set<3,4,-1>,struct cv::Set<1,-1,-1>,struct cv::Set<0,2,5>,2>::CvtHelper'\n"
     ]
    }
   ],
   "source": [
    "import cv2\n",
    "import numpy as np\n",
    "import matplotlib.pyplot as plt\n",
    "\n",
    "source_of_truth = cv2.imread('..\\\\Visualisations\\\\Session01_Resampled_Average_Figures\\\\60bpm_mf_44path_Normal_SplitCycles_TimeBased_Session01_ExpA1_All_Resampled_Average.mat_000195.png', cv2.IMREAD_GRAYSCALE)\n",
    "test_image = cv2.imread('..\\\\Visualisations\\\\Session01_Resampled_Average_Figures\\\\60bpm_mf_44path_Normal_SplitCycles_TimeBased_Session01_ExpA1_004_SavedCycle_1_Resampled.mat_000180.png', cv2.IMREAD_GRAYSCALE)\n",
    "assert source_of_truth is not None, \"file could not be read, check with os.path.exists()\"\n",
    "assert test_image is not None, \"file could not be read, check with os.path.exists()\"\n",
    "\n",
    "source_of_truth = cv2.cvtColor(source_of_truth,cv2.COLOR_BGR2GRAY) #gray scale image\n",
    "test_image = cv2.cvtColor(test_image,cv2.COLOR_BGR2GRAY) #gray scale image\n",
    "\n",
    "\n",
    "plt.imshow(source_of_truth)\n",
    "plt.show()\n",
    "ret, thresh = cv2.threshold(source_of_truth, 127, 255, 0)\n",
    "source_of_truth2, contours_truth, hierarchy = cv2.findContours(thresh, cv2.RETR_TREE, cv2.CHAIN_APPROX_SIMPLE)\n",
    "\n",
    "ret2, thresh2 = cv2.threshold(test_image, 127, 255, 0)\n",
    "test_image2, contours_test, hierarchy = cv2.findContours(thresh2, cv2.RETR_TREE, cv2.CHAIN_APPROX_SIMPLE)\n",
    "\n",
    "cnt1 = contours_truth[0]\n",
    "cnt2 = contours_test[0]\n",
    "\n",
    "print(\"Cnt 1: \", cnt1)\n",
    "\n",
    "\n",
    "ret_match = cv2.matchShapes(cnt1,cnt2,1,0.0)\n",
    "print(ret_match)"
   ]
  },
  {
   "cell_type": "code",
   "execution_count": null,
   "metadata": {},
   "outputs": [],
   "source": [
    "\"\""
   ]
  }
 ],
 "metadata": {
  "kernelspec": {
   "display_name": "mtrn4110",
   "language": "python",
   "name": "mtrn4110"
  },
  "language_info": {
   "codemirror_mode": {
    "name": "ipython",
    "version": 3
   },
   "file_extension": ".py",
   "mimetype": "text/x-python",
   "name": "python",
   "nbconvert_exporter": "python",
   "pygments_lexer": "ipython3",
   "version": "3.7.10"
  },
  "orig_nbformat": 4,
  "vscode": {
   "interpreter": {
    "hash": "91d0e911e4dec4455ceda997db6240601ad3d4b1a826a98150b632f627aef62b"
   }
  }
 },
 "nbformat": 4,
 "nbformat_minor": 2
}
